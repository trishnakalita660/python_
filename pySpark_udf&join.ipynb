{
  "nbformat": 4,
  "nbformat_minor": 0,
  "metadata": {
    "colab": {
      "name": "pySpark_udf&join.ipynb",
      "provenance": [],
      "authorship_tag": "ABX9TyMK0jKtkusPUkgZ0Zs4CUBb",
      "include_colab_link": true
    },
    "kernelspec": {
      "name": "python3",
      "display_name": "Python 3"
    },
    "language_info": {
      "name": "python"
    }
  },
  "cells": [
    {
      "cell_type": "markdown",
      "metadata": {
        "id": "view-in-github",
        "colab_type": "text"
      },
      "source": [
        "<a href=\"https://colab.research.google.com/github/trishnakalita660/python_/blob/main/pySpark_udf%26join.ipynb\" target=\"_parent\"><img src=\"https://colab.research.google.com/assets/colab-badge.svg\" alt=\"Open In Colab\"/></a>"
      ]
    },
    {
      "cell_type": "code",
      "execution_count": 1,
      "metadata": {
        "id": "7aVs2WNJHe8M"
      },
      "outputs": [],
      "source": [
        "!apt-get install openjdk-8-jdk-headless -qq > /dev/null"
      ]
    },
    {
      "cell_type": "code",
      "source": [
        "!wget -q https://dlcdn.apache.org/spark/spark-3.2.0/spark-3.2.0-bin-hadoop3.2.tgz\n",
        "!tar -xvf spark-3.2.0-bin-hadoop3.2.tgz\n",
        "!pip install -q findspark\n",
        "!pip install pyspark"
      ],
      "metadata": {
        "colab": {
          "base_uri": "https://localhost:8080/"
        },
        "id": "fGALrRYzJirS",
        "outputId": "71e14fee-14e3-4bb3-b1fb-9c86df5af6f8"
      },
      "execution_count": 2,
      "outputs": [
        {
          "output_type": "stream",
          "name": "stdout",
          "text": [
            "tar: spark-3.2.0-bin-hadoop3.2.tgz: Cannot open: No such file or directory\n",
            "tar: Error is not recoverable: exiting now\n",
            "Collecting pyspark\n",
            "  Downloading pyspark-3.2.1.tar.gz (281.4 MB)\n",
            "\u001b[K     |████████████████████████████████| 281.4 MB 36 kB/s \n",
            "\u001b[?25hCollecting py4j==0.10.9.3\n",
            "  Downloading py4j-0.10.9.3-py2.py3-none-any.whl (198 kB)\n",
            "\u001b[K     |████████████████████████████████| 198 kB 45.0 MB/s \n",
            "\u001b[?25hBuilding wheels for collected packages: pyspark\n",
            "  Building wheel for pyspark (setup.py) ... \u001b[?25l\u001b[?25hdone\n",
            "  Created wheel for pyspark: filename=pyspark-3.2.1-py2.py3-none-any.whl size=281853642 sha256=e3be216f3b6f0a32a4242b8a63fd1168072675e5a902b410c369361ebb71a4ca\n",
            "  Stored in directory: /root/.cache/pip/wheels/9f/f5/07/7cd8017084dce4e93e84e92efd1e1d5334db05f2e83bcef74f\n",
            "Successfully built pyspark\n",
            "Installing collected packages: py4j, pyspark\n",
            "Successfully installed py4j-0.10.9.3 pyspark-3.2.1\n"
          ]
        }
      ]
    },
    {
      "cell_type": "code",
      "source": [
        "import os\n",
        "os.environ[\"JAVA_HOME\"] = \"/usr/lib/jvm/java-8-openjdk-amd64\"\n",
        "os.environ[\"SPARK_HOME\"] = \"/content/spark-3.2.0-bin-hadoop3.2\""
      ],
      "metadata": {
        "id": "SnCddio2JtNp"
      },
      "execution_count": 3,
      "outputs": []
    },
    {
      "cell_type": "code",
      "source": [
        "import findspark\n",
        "\n",
        "findspark.init()\n",
        "\n",
        "from pyspark.sql import SparkSession\n",
        "spark = SparkSession.builder.master(\"local[*]\").getOrCreate()"
      ],
      "metadata": {
        "id": "SB_Kz_XHJvLL"
      },
      "execution_count": 4,
      "outputs": []
    },
    {
      "cell_type": "code",
      "source": [
        "!wget https://raw.githubusercontent.com/futurexskill/bigdata/master/store_customers.csv"
      ],
      "metadata": {
        "colab": {
          "base_uri": "https://localhost:8080/"
        },
        "id": "Fimqv0eWJ0Ks",
        "outputId": "2b064ff4-e4e8-4af1-ed7f-b368b07c916b"
      },
      "execution_count": 5,
      "outputs": [
        {
          "output_type": "stream",
          "name": "stdout",
          "text": [
            "--2022-01-28 05:28:52--  https://raw.githubusercontent.com/futurexskill/bigdata/master/store_customers.csv\n",
            "Resolving raw.githubusercontent.com (raw.githubusercontent.com)... 185.199.108.133, 185.199.109.133, 185.199.110.133, ...\n",
            "Connecting to raw.githubusercontent.com (raw.githubusercontent.com)|185.199.108.133|:443... connected.\n",
            "HTTP request sent, awaiting response... 200 OK\n",
            "Length: 199132 (194K) [text/plain]\n",
            "Saving to: ‘store_customers.csv’\n",
            "\n",
            "store_customers.csv 100%[===================>] 194.46K  --.-KB/s    in 0.01s   \n",
            "\n",
            "2022-01-28 05:28:53 (13.7 MB/s) - ‘store_customers.csv’ saved [199132/199132]\n",
            "\n"
          ]
        }
      ]
    },
    {
      "cell_type": "code",
      "source": [
        "!ls"
      ],
      "metadata": {
        "colab": {
          "base_uri": "https://localhost:8080/"
        },
        "id": "VZUuGsbfKFS5",
        "outputId": "3938e6aa-e3cf-43d1-a338-bd76cb18d464"
      },
      "execution_count": 6,
      "outputs": [
        {
          "output_type": "stream",
          "name": "stdout",
          "text": [
            "sample_data  store_customers.csv\n"
          ]
        }
      ]
    },
    {
      "cell_type": "code",
      "source": [
        "data_frame = spark.read.csv('store_customers.csv', header=True)"
      ],
      "metadata": {
        "id": "jPdM1918KJGK"
      },
      "execution_count": 7,
      "outputs": []
    },
    {
      "cell_type": "code",
      "source": [
        "data_frame.show()"
      ],
      "metadata": {
        "colab": {
          "base_uri": "https://localhost:8080/"
        },
        "id": "VPxyb2nuKZaZ",
        "outputId": "6be7969d-4b1a-41de-d748-928e09990ed9"
      },
      "execution_count": 8,
      "outputs": [
        {
          "output_type": "stream",
          "name": "stdout",
          "text": [
            "+----------+---+------+------+-------+\n",
            "|CustomerID|Age|Salary|Gender|Country|\n",
            "+----------+---+------+------+-------+\n",
            "|         1| 72| 20000|  Male|Germany|\n",
            "|         2| 72| 22000|Female| France|\n",
            "|         3| 70| 24000|Female|England|\n",
            "|         4| 75|  2600|  Male|England|\n",
            "|         5| 33| 50000|  Male| France|\n",
            "|         6| 52| 35000|Female|England|\n",
            "|         7| 31|  4300|  Male|Germany|\n",
            "|         8| 37| 32000|Female| France|\n",
            "|         9| 76| 35000|  Male|Germany|\n",
            "|        10| 58| 37000|Female| France|\n",
            "|        11| 70| 25000|  Male|Germany|\n",
            "|        12| 28| 27000|Female| France|\n",
            "|        13| 21| 29000|Female|England|\n",
            "|        14| 34|  7600|  Male|England|\n",
            "|        15| 45| 55000|  Male| France|\n",
            "|        16| 32| 40000|Female|England|\n",
            "|        17| 62|  9300|  Male|Germany|\n",
            "|        18| 54| 37000|Female| France|\n",
            "|        19| 33| 40000|  Male|Germany|\n",
            "|        20| 46| 42000|Female| France|\n",
            "+----------+---+------+------+-------+\n",
            "only showing top 20 rows\n",
            "\n"
          ]
        }
      ]
    },
    {
      "cell_type": "code",
      "source": [
        "data_frame.count()"
      ],
      "metadata": {
        "colab": {
          "base_uri": "https://localhost:8080/"
        },
        "id": "xpPEa_83Kdwy",
        "outputId": "6f1df47c-a3f0-41db-efe2-dd184f52e406"
      },
      "execution_count": 9,
      "outputs": [
        {
          "output_type": "execute_result",
          "data": {
            "text/plain": [
              "7000"
            ]
          },
          "metadata": {},
          "execution_count": 9
        }
      ]
    },
    {
      "cell_type": "code",
      "source": [
        "!wget https://raw.githubusercontent.com/futurexskill/bigdata/master/store_transactions.csv"
      ],
      "metadata": {
        "colab": {
          "base_uri": "https://localhost:8080/"
        },
        "id": "yrUlgz3MKhpT",
        "outputId": "cdf48fc0-d377-484c-a8db-4090ee54dfb0"
      },
      "execution_count": 10,
      "outputs": [
        {
          "output_type": "stream",
          "name": "stdout",
          "text": [
            "--2022-01-28 05:32:45--  https://raw.githubusercontent.com/futurexskill/bigdata/master/store_transactions.csv\n",
            "Resolving raw.githubusercontent.com (raw.githubusercontent.com)... 185.199.111.133, 185.199.108.133, 185.199.109.133, ...\n",
            "Connecting to raw.githubusercontent.com (raw.githubusercontent.com)|185.199.111.133|:443... connected.\n",
            "HTTP request sent, awaiting response... 200 OK\n",
            "Length: 7257374 (6.9M) [text/plain]\n",
            "Saving to: ‘store_transactions.csv’\n",
            "\n",
            "store_transactions. 100%[===================>]   6.92M  --.-KB/s    in 0.05s   \n",
            "\n",
            "2022-01-28 05:32:45 (129 MB/s) - ‘store_transactions.csv’ saved [7257374/7257374]\n",
            "\n"
          ]
        }
      ]
    },
    {
      "cell_type": "code",
      "source": [
        "transaction = spark.read.csv(\"store_transactions.csv\", header = True)"
      ],
      "metadata": {
        "id": "F_pP9hJwK-GK"
      },
      "execution_count": 11,
      "outputs": []
    },
    {
      "cell_type": "code",
      "source": [
        "transaction.count()"
      ],
      "metadata": {
        "colab": {
          "base_uri": "https://localhost:8080/"
        },
        "id": "9gNTgloVLGnI",
        "outputId": "045122d9-9537-4a69-e0ae-df0797104f68"
      },
      "execution_count": 12,
      "outputs": [
        {
          "output_type": "execute_result",
          "data": {
            "text/plain": [
              "1048575"
            ]
          },
          "metadata": {},
          "execution_count": 12
        }
      ]
    },
    {
      "cell_type": "code",
      "source": [
        "# UDF\n",
        "\n",
        "from pyspark.sql.functions import udf\n",
        "\n",
        "year = udf(lambda Date: Date.split('-')[2])"
      ],
      "metadata": {
        "id": "v0uSis-tLIeu"
      },
      "execution_count": 14,
      "outputs": []
    },
    {
      "cell_type": "code",
      "source": [
        "transaction = transaction.withColumn(\"year\",year(transaction.Date))\n",
        "transaction.show(20)"
      ],
      "metadata": {
        "colab": {
          "base_uri": "https://localhost:8080/"
        },
        "id": "je45yKRfLLv2",
        "outputId": "6f1220b6-3fb4-4d68-b4a7-4a1d38438778"
      },
      "execution_count": 15,
      "outputs": [
        {
          "output_type": "stream",
          "name": "stdout",
          "text": [
            "+----------+---------+------+----------+----+\n",
            "|CustomerID|ProductID|Amount|      Date|year|\n",
            "+----------+---------+------+----------+----+\n",
            "|      3427|        3|  7541|22-11-2019|2019|\n",
            "|      4378|       14|  7271|15-12-2019|2019|\n",
            "|      3751|       47|  4276|20-11-2019|2019|\n",
            "|      6899|      146|  8923|22-11-2019|2019|\n",
            "|      4561|       46|  4891|30-11-2019|2019|\n",
            "|      2299|      143|  7545|05-12-2019|2019|\n",
            "|       553|       43|  1147|08-12-2019|2019|\n",
            "|      3406|      134|   245|12-12-2019|2019|\n",
            "|      5278|       34|  8765|09-12-2019|2019|\n",
            "|      2456|       68|  3820|30-11-2019|2019|\n",
            "|      6963|       58|  1850|27-11-2019|2019|\n",
            "|      4700|      140|  3948|27-11-2019|2019|\n",
            "|      3566|       76|   401|17-12-2019|2019|\n",
            "|      2212|       38|  4750|16-12-2019|2019|\n",
            "|      4677|       18|  1149|18-11-2019|2019|\n",
            "|      4295|       35|  3241|19-11-2019|2019|\n",
            "|      4228|       91|  6405|01-12-2019|2019|\n",
            "|      2466|       83|  2978|10-12-2019|2019|\n",
            "|      3136|       67|  6581|28-11-2019|2019|\n",
            "|      6563|       80|  2878|21-11-2019|2019|\n",
            "+----------+---------+------+----------+----+\n",
            "only showing top 20 rows\n",
            "\n"
          ]
        }
      ]
    },
    {
      "cell_type": "code",
      "source": [
        "# JOINS\n",
        "\n",
        "# by default its inner join\n",
        "\n",
        "country_amt = data_frame.join(transaction, data_frame.CustomerID == transaction.CustomerID)\n",
        "country_amt.show()"
      ],
      "metadata": {
        "colab": {
          "base_uri": "https://localhost:8080/"
        },
        "id": "BVXO5cOiL0oF",
        "outputId": "fcae2a3c-7ced-4f08-e737-f2755de2af17"
      },
      "execution_count": 17,
      "outputs": [
        {
          "output_type": "stream",
          "name": "stdout",
          "text": [
            "+----------+---+------+------+-------+----------+---------+------+----------+----+\n",
            "|CustomerID|Age|Salary|Gender|Country|CustomerID|ProductID|Amount|      Date|year|\n",
            "+----------+---+------+------+-------+----------+---------+------+----------+----+\n",
            "|      3427| 69| 14300|Female|England|      3427|        3|  7541|22-11-2019|2019|\n",
            "|      4378| 78| 42000|  Male|Germany|      4378|       14|  7271|15-12-2019|2019|\n",
            "|      3751| 57| 45000|Female|England|      3751|       47|  4276|20-11-2019|2019|\n",
            "|      6899| 34| 12600|  Male|Germany|      6899|      146|  8923|22-11-2019|2019|\n",
            "|      4561| 37| 50000|Female|Germany|      4561|       46|  4891|30-11-2019|2019|\n",
            "|      2299| 50| 12600|Female| France|      2299|      143|  7545|05-12-2019|2019|\n",
            "|       553| 29| 42000|  Male|Germany|       553|       43|  1147|08-12-2019|2019|\n",
            "|      3406| 37| 35000|Female|England|      3406|      134|   245|12-12-2019|2019|\n",
            "|      5278| 64| 42000|Female|England|      5278|       34|  8765|09-12-2019|2019|\n",
            "|      2456| 77| 35000|Female|Germany|      2456|       68|  3820|30-11-2019|2019|\n",
            "|      6963| 26| 29000|  Male|Germany|      6963|       58|  1850|27-11-2019|2019|\n",
            "|      4700| 40| 60000|Female|Germany|      4700|      140|  3948|27-11-2019|2019|\n",
            "|      3566| 56| 40000|  Male|England|      3566|       76|   401|17-12-2019|2019|\n",
            "|      2212| 28| 19300|  Male|England|      2212|       38|  4750|16-12-2019|2019|\n",
            "|      4677| 37| 14300|  Male| France|      4677|       18|  1149|18-11-2019|2019|\n",
            "|      4295| 60| 42000|  Male|Germany|      4295|       35|  3241|19-11-2019|2019|\n",
            "|      4228| 36| 42000|Female|England|      4228|       91|  6405|01-12-2019|2019|\n",
            "|      2466| 75| 40000|  Male|England|      2466|       83|  2978|10-12-2019|2019|\n",
            "|      3136| 39| 50000|Female| France|      3136|       67|  6581|28-11-2019|2019|\n",
            "|      6563| 47| 29000|Female|England|      6563|       80|  2878|21-11-2019|2019|\n",
            "+----------+---+------+------+-------+----------+---------+------+----------+----+\n",
            "only showing top 20 rows\n",
            "\n"
          ]
        }
      ]
    },
    {
      "cell_type": "code",
      "source": [
        "country_amt.groupBy(\"Gender\").agg({\"Amount\":\"Sum\"}).show()"
      ],
      "metadata": {
        "colab": {
          "base_uri": "https://localhost:8080/"
        },
        "id": "binHvNTnL9Ob",
        "outputId": "e8a0971d-358d-44cc-b85d-4dcfb06d510e"
      },
      "execution_count": 20,
      "outputs": [
        {
          "output_type": "stream",
          "name": "stdout",
          "text": [
            "+------+------------+\n",
            "|Gender| sum(Amount)|\n",
            "+------+------------+\n",
            "|Female|2.47260421E8|\n",
            "|  Male|2.63840709E8|\n",
            "+------+------------+\n",
            "\n"
          ]
        }
      ]
    },
    {
      "cell_type": "code",
      "source": [
        "!wget https://raw.githubusercontent.com/futurexskill/bigdata/master/store_transactions_mini.csv"
      ],
      "metadata": {
        "colab": {
          "base_uri": "https://localhost:8080/"
        },
        "id": "2B99uir2M0MM",
        "outputId": "7e704333-c783-483f-8317-67523104e754"
      },
      "execution_count": 21,
      "outputs": [
        {
          "output_type": "stream",
          "name": "stdout",
          "text": [
            "--2022-01-28 05:44:46--  https://raw.githubusercontent.com/futurexskill/bigdata/master/store_transactions_mini.csv\n",
            "Resolving raw.githubusercontent.com (raw.githubusercontent.com)... 185.199.108.133, 185.199.109.133, 185.199.110.133, ...\n",
            "Connecting to raw.githubusercontent.com (raw.githubusercontent.com)|185.199.108.133|:443... connected.\n",
            "HTTP request sent, awaiting response... 200 OK\n",
            "Length: 167 [text/plain]\n",
            "Saving to: ‘store_transactions_mini.csv’\n",
            "\n",
            "\r          store_tra   0%[                    ]       0  --.-KB/s               \rstore_transactions_ 100%[===================>]     167  --.-KB/s    in 0s      \n",
            "\n",
            "2022-01-28 05:44:46 (6.73 MB/s) - ‘store_transactions_mini.csv’ saved [167/167]\n",
            "\n"
          ]
        }
      ]
    },
    {
      "cell_type": "code",
      "source": [
        "!wget https://raw.githubusercontent.com/futurexskill/bigdata/master/store_customers_mini.csv"
      ],
      "metadata": {
        "colab": {
          "base_uri": "https://localhost:8080/"
        },
        "id": "rbyZJGopNuBI",
        "outputId": "d4237c67-3548-48a4-849b-a5b1880681cc"
      },
      "execution_count": 22,
      "outputs": [
        {
          "output_type": "stream",
          "name": "stdout",
          "text": [
            "--2022-01-28 05:45:01--  https://raw.githubusercontent.com/futurexskill/bigdata/master/store_customers_mini.csv\n",
            "Resolving raw.githubusercontent.com (raw.githubusercontent.com)... 185.199.108.133, 185.199.109.133, 185.199.111.133, ...\n",
            "Connecting to raw.githubusercontent.com (raw.githubusercontent.com)|185.199.108.133|:443... connected.\n",
            "HTTP request sent, awaiting response... 200 OK\n",
            "Length: 190 [text/plain]\n",
            "Saving to: ‘store_customers_mini.csv’\n",
            "\n",
            "\rstore_customers_min   0%[                    ]       0  --.-KB/s               \rstore_customers_min 100%[===================>]     190  --.-KB/s    in 0s      \n",
            "\n",
            "2022-01-28 05:45:01 (11.9 MB/s) - ‘store_customers_mini.csv’ saved [190/190]\n",
            "\n"
          ]
        }
      ]
    },
    {
      "cell_type": "code",
      "source": [
        "!ls"
      ],
      "metadata": {
        "colab": {
          "base_uri": "https://localhost:8080/"
        },
        "id": "RpgjfYI6Nx4w",
        "outputId": "f781b9f7-e8c1-4156-d219-129b9fde8cfe"
      },
      "execution_count": 23,
      "outputs": [
        {
          "output_type": "stream",
          "name": "stdout",
          "text": [
            "sample_data\t     store_customers_mini.csv  store_transactions_mini.csv\n",
            "store_customers.csv  store_transactions.csv\n"
          ]
        }
      ]
    },
    {
      "cell_type": "code",
      "source": [
        "custDfMini = spark.read.csv(\"store_customers_mini.csv\", header = True)\n",
        "transDfMini = spark.read.csv(\"store_transactions_mini.csv\", header = True)\n"
      ],
      "metadata": {
        "id": "lz_BMjv2Q7dZ"
      },
      "execution_count": 24,
      "outputs": []
    },
    {
      "cell_type": "code",
      "source": [
        "custDfMini.join(transDfMini, custDfMini.CustomerID == transDfMini.CustomerID).show()"
      ],
      "metadata": {
        "colab": {
          "base_uri": "https://localhost:8080/"
        },
        "id": "NEmzh8NaRP58",
        "outputId": "17afc282-748b-47c7-b261-4db69fd01829"
      },
      "execution_count": 26,
      "outputs": [
        {
          "output_type": "stream",
          "name": "stdout",
          "text": [
            "+----------+---+------+------+-------+----------+---------+------+----------+\n",
            "|CustomerID|Age|Salary|Gender|Country|CustomerID|ProductID|Amount|      Date|\n",
            "+----------+---+------+------+-------+----------+---------+------+----------+\n",
            "|         1| 72| 20000|  Male|Germany|         1|        3|  7541|22-11-2019|\n",
            "|         2| 72| 22000|Female| France|         2|       14|  7271|15-12-2019|\n",
            "|         5| 33| 50000|  Male| France|         5|       46|  4891|30-11-2019|\n",
            "|         6| 52| 35000|Female|England|         6|      143|  7545|05-12-2019|\n",
            "+----------+---+------+------+-------+----------+---------+------+----------+\n",
            "\n"
          ]
        }
      ]
    },
    {
      "cell_type": "code",
      "source": [
        "custDfMini.join(transDfMini, custDfMini.CustomerID == transDfMini.CustomerID, how = \"inner\").show()"
      ],
      "metadata": {
        "colab": {
          "base_uri": "https://localhost:8080/"
        },
        "id": "5Dmf9z9JRkB8",
        "outputId": "ba4e79f4-2424-45c0-f769-582ad41fc02f"
      },
      "execution_count": 27,
      "outputs": [
        {
          "output_type": "stream",
          "name": "stdout",
          "text": [
            "+----------+---+------+------+-------+----------+---------+------+----------+\n",
            "|CustomerID|Age|Salary|Gender|Country|CustomerID|ProductID|Amount|      Date|\n",
            "+----------+---+------+------+-------+----------+---------+------+----------+\n",
            "|         1| 72| 20000|  Male|Germany|         1|        3|  7541|22-11-2019|\n",
            "|         2| 72| 22000|Female| France|         2|       14|  7271|15-12-2019|\n",
            "|         5| 33| 50000|  Male| France|         5|       46|  4891|30-11-2019|\n",
            "|         6| 52| 35000|Female|England|         6|      143|  7545|05-12-2019|\n",
            "+----------+---+------+------+-------+----------+---------+------+----------+\n",
            "\n"
          ]
        }
      ]
    },
    {
      "cell_type": "code",
      "source": [
        "custDfMini.join(transDfMini, custDfMini.CustomerID == transDfMini.CustomerID, how = \"right\").show()"
      ],
      "metadata": {
        "colab": {
          "base_uri": "https://localhost:8080/"
        },
        "id": "B76B-Q2zRtfw",
        "outputId": "4fe8e8ff-7dbf-43dd-b0e7-513c08f6c32f"
      },
      "execution_count": 28,
      "outputs": [
        {
          "output_type": "stream",
          "name": "stdout",
          "text": [
            "+----------+----+------+------+-------+----------+---------+------+----------+\n",
            "|CustomerID| Age|Salary|Gender|Country|CustomerID|ProductID|Amount|      Date|\n",
            "+----------+----+------+------+-------+----------+---------+------+----------+\n",
            "|         1|  72| 20000|  Male|Germany|         1|        3|  7541|22-11-2019|\n",
            "|         2|  72| 22000|Female| France|         2|       14|  7271|15-12-2019|\n",
            "|      null|null|  null|  null|   null|         3|       47|  4276|20-11-2019|\n",
            "|      null|null|  null|  null|   null|         4|      146|  8923|22-11-2019|\n",
            "|         5|  33| 50000|  Male| France|         5|       46|  4891|30-11-2019|\n",
            "|         6|  52| 35000|Female|England|         6|      143|  7545|05-12-2019|\n",
            "+----------+----+------+------+-------+----------+---------+------+----------+\n",
            "\n"
          ]
        }
      ]
    },
    {
      "cell_type": "code",
      "source": [
        "custDfMini.join(transDfMini, custDfMini.CustomerID == transDfMini.CustomerID, how=\"left\").show()"
      ],
      "metadata": {
        "colab": {
          "base_uri": "https://localhost:8080/"
        },
        "id": "4LqhIp5_Rw0a",
        "outputId": "5f2bed37-542a-4f50-9713-8e4d032a568b"
      },
      "execution_count": 29,
      "outputs": [
        {
          "output_type": "stream",
          "name": "stdout",
          "text": [
            "+----------+---+------+------+-------+----------+---------+------+----------+\n",
            "|CustomerID|Age|Salary|Gender|Country|CustomerID|ProductID|Amount|      Date|\n",
            "+----------+---+------+------+-------+----------+---------+------+----------+\n",
            "|         1| 72| 20000|  Male|Germany|         1|        3|  7541|22-11-2019|\n",
            "|         2| 72| 22000|Female| France|         2|       14|  7271|15-12-2019|\n",
            "|         5| 33| 50000|  Male| France|         5|       46|  4891|30-11-2019|\n",
            "|         6| 52| 35000|Female|England|         6|      143|  7545|05-12-2019|\n",
            "|         7| 31|  4300|  Male|Germany|      null|     null|  null|      null|\n",
            "|         8| 37| 32000|Female| France|      null|     null|  null|      null|\n",
            "+----------+---+------+------+-------+----------+---------+------+----------+\n",
            "\n"
          ]
        }
      ]
    },
    {
      "cell_type": "code",
      "source": [
        "custDfMini.join(transDfMini, custDfMini.CustomerID == transDfMini.CustomerID, how = \"full\").show()"
      ],
      "metadata": {
        "colab": {
          "base_uri": "https://localhost:8080/"
        },
        "id": "x8aYuPkRR1uB",
        "outputId": "f5321709-c234-4cc4-b444-605845f0cb8e"
      },
      "execution_count": 30,
      "outputs": [
        {
          "output_type": "stream",
          "name": "stdout",
          "text": [
            "+----------+----+------+------+-------+----------+---------+------+----------+\n",
            "|CustomerID| Age|Salary|Gender|Country|CustomerID|ProductID|Amount|      Date|\n",
            "+----------+----+------+------+-------+----------+---------+------+----------+\n",
            "|         1|  72| 20000|  Male|Germany|         1|        3|  7541|22-11-2019|\n",
            "|         2|  72| 22000|Female| France|         2|       14|  7271|15-12-2019|\n",
            "|      null|null|  null|  null|   null|         3|       47|  4276|20-11-2019|\n",
            "|      null|null|  null|  null|   null|         4|      146|  8923|22-11-2019|\n",
            "|         5|  33| 50000|  Male| France|         5|       46|  4891|30-11-2019|\n",
            "|         6|  52| 35000|Female|England|         6|      143|  7545|05-12-2019|\n",
            "|         7|  31|  4300|  Male|Germany|      null|     null|  null|      null|\n",
            "|         8|  37| 32000|Female| France|      null|     null|  null|      null|\n",
            "+----------+----+------+------+-------+----------+---------+------+----------+\n",
            "\n"
          ]
        }
      ]
    },
    {
      "cell_type": "code",
      "source": [
        "custDfMini.join(transDfMini, custDfMini.CustomerID == transDfMini.CustomerID, how = \"left_semi\").show()"
      ],
      "metadata": {
        "colab": {
          "base_uri": "https://localhost:8080/"
        },
        "id": "rwpG7XpaR6fE",
        "outputId": "cbf6dd45-8f9e-48f7-9688-40acd6a6f0ee"
      },
      "execution_count": 31,
      "outputs": [
        {
          "output_type": "stream",
          "name": "stdout",
          "text": [
            "+----------+---+------+------+-------+\n",
            "|CustomerID|Age|Salary|Gender|Country|\n",
            "+----------+---+------+------+-------+\n",
            "|         1| 72| 20000|  Male|Germany|\n",
            "|         2| 72| 22000|Female| France|\n",
            "|         5| 33| 50000|  Male| France|\n",
            "|         6| 52| 35000|Female|England|\n",
            "+----------+---+------+------+-------+\n",
            "\n"
          ]
        }
      ]
    },
    {
      "cell_type": "code",
      "source": [
        "custDfMini.join(transDfMini, custDfMini.CustomerID == transDfMini.CustomerID, how = \"left_anti\").show()"
      ],
      "metadata": {
        "colab": {
          "base_uri": "https://localhost:8080/"
        },
        "id": "3NMun0LKSGO2",
        "outputId": "f00ad0e7-976c-4d10-bc84-1bb7c674d57a"
      },
      "execution_count": 32,
      "outputs": [
        {
          "output_type": "stream",
          "name": "stdout",
          "text": [
            "+----------+---+------+------+-------+\n",
            "|CustomerID|Age|Salary|Gender|Country|\n",
            "+----------+---+------+------+-------+\n",
            "|         7| 31|  4300|  Male|Germany|\n",
            "|         8| 37| 32000|Female| France|\n",
            "+----------+---+------+------+-------+\n",
            "\n"
          ]
        }
      ]
    },
    {
      "cell_type": "code",
      "source": [
        ""
      ],
      "metadata": {
        "id": "gGh56qVqSI7j"
      },
      "execution_count": null,
      "outputs": []
    }
  ]
}